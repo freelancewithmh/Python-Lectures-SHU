{
 "cells": [
  {
   "cell_type": "markdown",
   "metadata": {},
   "source": [
    "<h1>Session 1</h1>\n",
    "\n",
    "<h2>FN299A: Introduction to Python for Financial Applications</h2>\n",
    "<br>\n",
    "<b>\"Exploratory data analysis can never be the whole story, but nothing else can serve as the foundation stone.\"</b>\n",
    "<br>\n",
    "John Tukey"
   ]
  },
  {
   "cell_type": "markdown",
   "metadata": {},
   "source": [
    "<h2>Topics:</h2>\n",
    "\n",
    "* <a href=\"#Comments\">Comments</a>\n",
    "* <a href=\"#Expressions\">Expressions</a>\n",
    "* <a href=\"#PythonOperPrec\">Python Operator Precedence</a>\n",
    "* <a href=\"#Strings\">Strings</a>\n",
    "* <a href=\"#Variables\">Variables</a>\n",
    "* <a href=\"#DataTypes\">DataTypes</a>\n",
    "* <a href=\"#Statements\">Statements</a>\n",
    "* <a href=\"#Functions\">Functions</a>\n",
    "* <a href=\"#MoreFunctions\">More Functions</a>\n",
    "* <a href=\"#CustomFunctions\">Custom Functions</a>\n",
    "* <a href=\"#MoreAboutStrings\">More About Strings</a>\n",
    "* <a href=\"#NextSession\">Next Session</a>"
   ]
  },
  {
   "cell_type": "markdown",
   "metadata": {},
   "source": [
    "<a id=\"#Comments\"></a>\n",
    "<h2>Comments</h2>\n",
    "Comments are used in code to explain the block of code and make it easier for the coder reading the script to understand what the script is trying to do.  Commented lines are ignored and the code is executed.  "
   ]
  },
  {
   "cell_type": "code",
   "execution_count": 48,
   "metadata": {
    "collapsed": true
   },
   "outputs": [],
   "source": [
    "# Single line comments"
   ]
  },
  {
   "cell_type": "markdown",
   "metadata": {},
   "source": [
    "<a id=\"#Expressions\"></a>\n",
    "<h2>Expressions</h2>\n",
    "Expressions evaluate to a single value. Examples:\n",
    "\n",
    "1 + 2 + 3\n",
    "\n",
    "3*6\n",
    "\n",
    "6/3"
   ]
  },
  {
   "cell_type": "code",
   "execution_count": null,
   "metadata": {
    "collapsed": true
   },
   "outputs": [],
   "source": []
  },
  {
   "cell_type": "code",
   "execution_count": null,
   "metadata": {
    "collapsed": true
   },
   "outputs": [],
   "source": []
  },
  {
   "cell_type": "code",
   "execution_count": null,
   "metadata": {
    "collapsed": true
   },
   "outputs": [],
   "source": []
  },
  {
   "cell_type": "markdown",
   "metadata": {},
   "source": [
    "<a id=\"#PythonOperPrec\"></a>\n",
    "<h2>Python Operator Precedence</h2>"
   ]
  },
  {
   "cell_type": "markdown",
   "metadata": {},
   "source": [
    "<table align=Left>\n",
    "<tr><td>Highest Precedence</td><td> () </td><td>Parentheses</td></tr>\n",
    "<tr><td></td><td>&lowast;&lowast;</td><td>Exponentiation</td></tr>\n",
    "<tr><td></td><td>&lowast;</td><td>Multiplication</td></tr>\n",
    "<tr><td></td><td>/</td><td>Division</td></tr>\n",
    "<tr><td></td><td>+</td><td>Addition</td></tr>\n",
    "<tr><td>Lowest Precedence</td><td>-</td><td>Subtraction</td></tr>"
   ]
  },
  {
   "cell_type": "code",
   "execution_count": 57,
   "metadata": {
    "collapsed": true
   },
   "outputs": [],
   "source": [
    "#  13 + 5  * 2  - 4  / 2 - 13\n"
   ]
  },
  {
   "cell_type": "code",
   "execution_count": null,
   "metadata": {
    "collapsed": true
   },
   "outputs": [],
   "source": [
    "# ( ( ( ( 13 + 5 ) * 2 ) - 4 ) / 2) - 1\n"
   ]
  },
  {
   "cell_type": "markdown",
   "metadata": {},
   "source": [
    "<a id=\"#Strings\"></a>\n",
    "<h2>Strings</h2>\n",
    "\n",
    "An Expression may also contain strings (enclosed in quotes)\n",
    "\n",
    "'hello'\n",
    "\n",
    "Concatenating strings: 'hello ' + 'james'\n",
    "\n",
    "repeating strings:  'hello ' * 3"
   ]
  },
  {
   "cell_type": "code",
   "execution_count": null,
   "metadata": {
    "collapsed": true
   },
   "outputs": [],
   "source": []
  },
  {
   "cell_type": "code",
   "execution_count": null,
   "metadata": {
    "collapsed": true
   },
   "outputs": [],
   "source": []
  },
  {
   "cell_type": "markdown",
   "metadata": {},
   "source": [
    "<a id=\"#Variables\"></a>\n",
    "<h2>Variables</h2>\n",
    "A variable is a reserved memory location to store a value. Variable names are case sensitive.\n",
    "<br>\n",
    "For readability - the naming convention in Python for variables is lowercase with words separaterd by underscores\n",
    "<br>\n",
    "x = 2\n",
    "<br>\n",
    "stoc_price = 3.5\n",
    "<br>\n",
    "birth_year = 2018\n",
    "<br>\n",
    "first_name = 'Peter'\n",
    "<br>\n",
    "last_name = 'Parker'"
   ]
  },
  {
   "cell_type": "code",
   "execution_count": null,
   "metadata": {
    "collapsed": true
   },
   "outputs": [],
   "source": []
  },
  {
   "cell_type": "code",
   "execution_count": null,
   "metadata": {
    "collapsed": true
   },
   "outputs": [],
   "source": []
  },
  {
   "cell_type": "code",
   "execution_count": null,
   "metadata": {
    "collapsed": true
   },
   "outputs": [],
   "source": []
  },
  {
   "cell_type": "markdown",
   "metadata": {},
   "source": [
    "<a id=\"#DataTypes\"></a>\n",
    "<h2>Data Types</h2>\n",
    "int, float, str"
   ]
  },
  {
   "cell_type": "code",
   "execution_count": null,
   "metadata": {
    "collapsed": true
   },
   "outputs": [],
   "source": []
  },
  {
   "cell_type": "code",
   "execution_count": null,
   "metadata": {
    "collapsed": true
   },
   "outputs": [],
   "source": []
  },
  {
   "cell_type": "code",
   "execution_count": null,
   "metadata": {
    "collapsed": true
   },
   "outputs": [],
   "source": []
  },
  {
   "cell_type": "markdown",
   "metadata": {},
   "source": [
    "<a id=\"#Statements\"></a>\n",
    "<h2>Statements</h2>\n",
    "A statement in Python does something\n",
    "<br>\n",
    "x = 1\n",
    "<br>\n",
    "x = x + 1\n",
    "<br>\n",
    "x = x + 1\n",
    "<br>\n",
    "x = x * 2\n"
   ]
  },
  {
   "cell_type": "code",
   "execution_count": null,
   "metadata": {
    "collapsed": true
   },
   "outputs": [],
   "source": []
  },
  {
   "cell_type": "code",
   "execution_count": null,
   "metadata": {
    "collapsed": true
   },
   "outputs": [],
   "source": []
  },
  {
   "cell_type": "code",
   "execution_count": null,
   "metadata": {
    "collapsed": true
   },
   "outputs": [],
   "source": []
  },
  {
   "cell_type": "markdown",
   "metadata": {},
   "source": [
    "<a id=\"#AssignmentOperShortcuts\"></a>\n",
    "<h2>Assignment Operator Shortcuts</h2>\n",
    "<table align=\"left\">\n",
    "<tr><th>Assignment</th><th>Shortcut</th></tr>\n",
    "<tr><td>x = x + 2</td><td>x += 2</td></tr>\n",
    "<tr><td>x = x - 2</td><td>x -= 2</td></tr>\n",
    "<tr><td>x = x / 2</td><td>x /= 2</td></tr>\n",
    "<tr><td>x = x &lowast; 2</td><td>x &lowast;= 2</td></tr>\n",
    "</table>\n"
   ]
  },
  {
   "cell_type": "code",
   "execution_count": null,
   "metadata": {
    "collapsed": true
   },
   "outputs": [],
   "source": []
  },
  {
   "cell_type": "code",
   "execution_count": null,
   "metadata": {
    "collapsed": true
   },
   "outputs": [],
   "source": []
  },
  {
   "cell_type": "code",
   "execution_count": null,
   "metadata": {
    "collapsed": true
   },
   "outputs": [],
   "source": []
  },
  {
   "cell_type": "code",
   "execution_count": null,
   "metadata": {
    "collapsed": true
   },
   "outputs": [],
   "source": []
  },
  {
   "cell_type": "markdown",
   "metadata": {},
   "source": [
    "<h2>Functions</h2>\n",
    "A function accepts some arguments (also called parameters) and return a value.\n",
    "<br>\n",
    "Some built in functions in Python: len, help, type, print, input\n"
   ]
  },
  {
   "cell_type": "code",
   "execution_count": null,
   "metadata": {
    "collapsed": true
   },
   "outputs": [],
   "source": []
  },
  {
   "cell_type": "code",
   "execution_count": null,
   "metadata": {
    "collapsed": true
   },
   "outputs": [],
   "source": []
  },
  {
   "cell_type": "code",
   "execution_count": null,
   "metadata": {
    "collapsed": true
   },
   "outputs": [],
   "source": []
  },
  {
   "cell_type": "code",
   "execution_count": null,
   "metadata": {
    "collapsed": true
   },
   "outputs": [],
   "source": []
  },
  {
   "cell_type": "markdown",
   "metadata": {},
   "source": [
    "<h2>More Functions</h2>\n",
    "Converting values: float, int, str\n",
    "<br>\n",
    "<b>Example problem:</b> prompt for a number to be multiplied by 2. Multiply the number times 2 and display the results\n"
   ]
  },
  {
   "cell_type": "code",
   "execution_count": null,
   "metadata": {
    "collapsed": true
   },
   "outputs": [],
   "source": []
  },
  {
   "cell_type": "code",
   "execution_count": null,
   "metadata": {
    "collapsed": true
   },
   "outputs": [],
   "source": []
  },
  {
   "cell_type": "code",
   "execution_count": null,
   "metadata": {
    "collapsed": true
   },
   "outputs": [],
   "source": []
  },
  {
   "cell_type": "markdown",
   "metadata": {},
   "source": [
    "<a id=\"#CustomFunctions\"></a>\n",
    "<h2>Custom Functions</h2>\n",
    "Function definition follows after the colon (:).  The function block needs to be indented."
   ]
  },
  {
   "cell_type": "code",
   "execution_count": 53,
   "metadata": {
    "collapsed": false
   },
   "outputs": [],
   "source": [
    "# function hello_world prints hello world\n",
    "\n"
   ]
  },
  {
   "cell_type": "code",
   "execution_count": null,
   "metadata": {
    "collapsed": true
   },
   "outputs": [],
   "source": []
  },
  {
   "cell_type": "code",
   "execution_count": 54,
   "metadata": {
    "collapsed": true
   },
   "outputs": [],
   "source": [
    "# function hello_user says hello to a user\n"
   ]
  },
  {
   "cell_type": "code",
   "execution_count": null,
   "metadata": {
    "collapsed": true
   },
   "outputs": [],
   "source": []
  },
  {
   "cell_type": "code",
   "execution_count": 55,
   "metadata": {
    "collapsed": true
   },
   "outputs": [],
   "source": [
    "# function add_two_numbers adds two numbers\n"
   ]
  },
  {
   "cell_type": "markdown",
   "metadata": {},
   "source": [
    "<a id=\"#MoreAboutStrings\"></a>\n",
    "<h2>More About Strings</h2>\n",
    "Strings are represented as arrays in Python!  Arrays are indexed data structures that store data of the same data type. \n",
    "<li>Arrays are indexed</li>\n",
    "<li>The index starts at zero!</li>\n",
    "<br>\n",
    "x = 'Hello World!'\n",
    "<br>\n",
    "<table align=\"left\">\n",
    "<tr><td>H</td><td>e</td><td>l</td><td>l</td><td>o</td><td></td><td>W</td><td>o</td><td>r</td><td>l</td><td>d</td><td>!</td></tr>\n",
    "<tr><td>0</td><td>1</td><td>2</td><td>3</td><td>4</td><td>5</td><td>6</td><td>7</td><td>8</td><td>9</td><td>10</td><td>11</td></tr>\n",
    "</table>\n"
   ]
  },
  {
   "cell_type": "code",
   "execution_count": null,
   "metadata": {
    "collapsed": true
   },
   "outputs": [],
   "source": []
  },
  {
   "cell_type": "code",
   "execution_count": null,
   "metadata": {
    "collapsed": true
   },
   "outputs": [],
   "source": []
  },
  {
   "cell_type": "markdown",
   "metadata": {},
   "source": [
    "<h3>You can also use negative indexes in arrays!</h3>\n",
    "<br>\n",
    "<table align=\"left\">\n",
    "<tr><td>H</td><td>e</td><td>l</td><td>l</td><td>o</td><td></td><td>W</td><td>o</td><td>r</td><td>l</td><td>d</td><td>!</td></tr>\n",
    "<tr><td>0</td><td>1</td><td>2</td><td>3</td><td>4</td><td>5</td><td>6</td><td>7</td><td>8</td><td>9</td><td>10</td><td>11</td></tr>\n",
    "<tr><td>-12</td><td>-11</td><td>-10</td><td>-9</td><td>-8</td><td>-7</td><td>-6</td><td>-5</td><td>-4</td><td>-3</td><td>-2</td><td>-1</td></tr>\n",
    "</table>"
   ]
  },
  {
   "cell_type": "code",
   "execution_count": null,
   "metadata": {
    "collapsed": true
   },
   "outputs": [],
   "source": []
  },
  {
   "cell_type": "code",
   "execution_count": null,
   "metadata": {
    "collapsed": true
   },
   "outputs": [],
   "source": []
  },
  {
   "cell_type": "markdown",
   "metadata": {},
   "source": [
    "<h3>Slicing Arrays</h3>\n",
    "<br>\n",
    "Array[StartIndex:EndIndex]\n",
    "<br>\n",
    "Array[StartIndex:EndIndex:Steps]\n",
    "<br>\n",
    "<br>\n",
    "<b>Note:</b>If StartIndex is blank - 0 is assumed.  If EndIndex is not included, end of array is implied.  If Steps is blank or not included - one is assumed"
   ]
  },
  {
   "cell_type": "code",
   "execution_count": 66,
   "metadata": {
    "collapsed": true
   },
   "outputs": [],
   "source": [
    "x='Hello World!'"
   ]
  },
  {
   "cell_type": "code",
   "execution_count": null,
   "metadata": {
    "collapsed": true
   },
   "outputs": [],
   "source": []
  },
  {
   "cell_type": "markdown",
   "metadata": {},
   "source": [
    "<a id=\"#NextSession\"></a>\n",
    "<h2>Next Session</h2>\n",
    "If statements and control structures!"
   ]
  },
  {
   "cell_type": "code",
   "execution_count": null,
   "metadata": {
    "collapsed": true
   },
   "outputs": [],
   "source": []
  }
 ],
 "metadata": {
  "anaconda-cloud": {},
  "kernelspec": {
   "display_name": "Python [Root]",
   "language": "python",
   "name": "Python [Root]"
  },
  "language_info": {
   "codemirror_mode": {
    "name": "ipython",
    "version": 3
   },
   "file_extension": ".py",
   "mimetype": "text/x-python",
   "name": "python",
   "nbconvert_exporter": "python",
   "pygments_lexer": "ipython3",
   "version": "3.5.1"
  }
 },
 "nbformat": 4,
 "nbformat_minor": 0
}

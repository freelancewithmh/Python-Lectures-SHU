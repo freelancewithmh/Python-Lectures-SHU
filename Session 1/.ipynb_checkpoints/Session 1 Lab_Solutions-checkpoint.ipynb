{
 "cells": [
  {
   "cell_type": "markdown",
   "metadata": {},
   "source": [
    "<h1>Session 1 - Lab</h1>\n",
    "\n",
    "<h2>FN299A: Introduction to Python for Financial Applications</h2>\n",
    "\n",
    "<h3>----Solutions----</h3>"
   ]
  },
  {
   "cell_type": "markdown",
   "metadata": {},
   "source": [
    "<h2>Exercise 1</h2>\n",
    "Create Python code to prompt for the user's first name and last name.  Print the user's full name"
   ]
  },
  {
   "cell_type": "code",
   "execution_count": 2,
   "metadata": {
    "collapsed": false
   },
   "outputs": [
    {
     "name": "stdout",
     "output_type": "stream",
     "text": [
      "Enter First Name: Severus\n",
      "Enter Last Name: Snape\n",
      "Severus Snape\n"
     ]
    }
   ],
   "source": [
    "first_name = input('Enter First Name: ')\n",
    "last_name = input('Enter Last Name: ')\n",
    "print(first_name + ' ' + last_name)"
   ]
  },
  {
   "cell_type": "markdown",
   "metadata": {},
   "source": [
    "<h2>Exercise 2</h2>\n",
    "Create a python function that takes a user's first and last names and prints the user's full name"
   ]
  },
  {
   "cell_type": "code",
   "execution_count": 3,
   "metadata": {
    "collapsed": false
   },
   "outputs": [
    {
     "name": "stdout",
     "output_type": "stream",
     "text": [
      "Enter First Name: Severus\n",
      "Enter Last Name: Snape\n",
      "Severus Snape\n"
     ]
    }
   ],
   "source": [
    "def get_user_name():\n",
    "    first_name = input('Enter First Name: ')\n",
    "    last_name = input('Enter Last Name: ')\n",
    "    print(first_name + ' ' + last_name)\n",
    "    \n",
    "get_user_name()"
   ]
  },
  {
   "cell_type": "markdown",
   "metadata": {},
   "source": [
    "<h2>Exercise 3</h2>\n",
    "Create Python code to convert temperatures in degrees Fahrenheit to Celsius: subtract 32 and multiply by 5/9\n",
    "<br>\n",
    "Print the calculated value"
   ]
  },
  {
   "cell_type": "code",
   "execution_count": 1,
   "metadata": {
    "collapsed": false
   },
   "outputs": [
    {
     "name": "stdout",
     "output_type": "stream",
     "text": [
      "29.444444444444446\n"
     ]
    }
   ],
   "source": [
    "f_float = 85.0\n",
    "c_float = (f_float - 32)*(5/9)\n",
    "\n",
    "print(c_float)"
   ]
  },
  {
   "cell_type": "markdown",
   "metadata": {},
   "source": [
    "<h2>Exercise 4</h2>\n",
    "Create a python function that converts temperatures in degrees Fahrenheit to Celsius.  Call the function and print the calculated value."
   ]
  },
  {
   "cell_type": "code",
   "execution_count": 2,
   "metadata": {
    "collapsed": false
   },
   "outputs": [
    {
     "name": "stdout",
     "output_type": "stream",
     "text": [
      "29.444444444444446\n"
     ]
    }
   ],
   "source": [
    "def convert_to_celsius(f_float):\n",
    "    c_float = (f_float - 32)*(5/9)\n",
    "    return c_float\n",
    "\n",
    "print(convert_to_celsius(85))\n",
    "    "
   ]
  },
  {
   "cell_type": "markdown",
   "metadata": {},
   "source": [
    "<h2>Exercise 5</h2>\n",
    "The U.S. Census provides information on its web page (http://www.census.gov) about the current U.S. population as well as approximate rates of change.\n",
    "<br>\n",
    "Three rates of change are provided:\n",
    "<br>\n",
    "<li>a birth every 7 seconds.</li>\n",
    "<li>a death every 13 seconds.</li>\n",
    "<li>a new immigrant every 35 seconds.</li>\n",
    "<br>\n",
    "These are obviously approximations of birth, death and immigration rates, but they can assist in providing population estimates in the near term.\n",
    "<br>\n",
    "Write Python code that takes years as input and prints out an estimated population (as an integer).  Assume that the current population is 307,357,870 and assume that there are exactly 365 days in a year.\n",
    "<br>\n",
    "Note that the rate units are in seconds\n"
   ]
  },
  {
   "cell_type": "code",
   "execution_count": 3,
   "metadata": {
    "collapsed": false
   },
   "outputs": [
    {
     "name": "stdout",
     "output_type": "stream",
     "text": [
      "322259496.37362635\n"
     ]
    }
   ],
   "source": [
    "pop_float = 307357870.0\n",
    "birth_rate_float = 7.0\n",
    "death_rate_float = 13.0\n",
    "immigrants_rate_float  =35.0\n",
    "seconds_in_year = 60*60*24*365\n",
    "\n",
    "birth_in_year = seconds_in_year/birth_rate_float\n",
    "death_in_year = seconds_in_year/death_rate_float\n",
    "immigrants_per_year = seconds_in_year/immigrants_rate_float\n",
    "\n",
    "population_change_float =(birth_in_year-death_in_year+immigrants_per_year)\n",
    "#for 5 years\n",
    "final_population = pop_float+(population_change_float*5)\n",
    "\n",
    "print (final_population)"
   ]
  },
  {
   "cell_type": "markdown",
   "metadata": {},
   "source": [
    "<h2>Exercise 6</h2>\n",
    "Now convert exercise 5 into a function.  The function should take one argument (the number of years) - it should calculate the projected population and return it"
   ]
  },
  {
   "cell_type": "code",
   "execution_count": 4,
   "metadata": {
    "collapsed": false
   },
   "outputs": [
    {
     "name": "stdout",
     "output_type": "stream",
     "text": [
      "322259496.37362635\n"
     ]
    }
   ],
   "source": [
    "def find_population(years):\n",
    "    pop_float = 307357870.0\n",
    "    birth_rate_float = 7.0\n",
    "    death_rate_float = 13.0\n",
    "    immigrants_rate_float  =35.0\n",
    "    seconds_in_year = 60*60*24*365\n",
    "\n",
    "    birth_in_year = seconds_in_year/birth_rate_float\n",
    "    death_in_year = seconds_in_year/death_rate_float\n",
    "    immigrants_per_year = seconds_in_year/immigrants_rate_float\n",
    "\n",
    "    population_change_float =(birth_in_year-death_in_year+immigrants_per_year)\n",
    "    #for 5 years\n",
    "    return pop_float+(population_change_float*years)\n",
    "\n",
    "print (find_population(5))"
   ]
  },
  {
   "cell_type": "markdown",
   "metadata": {},
   "source": [
    "<h2>Exercise 7</h2>\n",
    "<br>\n",
    "Let's practice slicing strings. \n",
    "<br>\n",
    "x=\"0123456789\""
   ]
  },
  {
   "cell_type": "code",
   "execution_count": 5,
   "metadata": {
    "collapsed": true
   },
   "outputs": [],
   "source": [
    "x=\"0123456789\""
   ]
  },
  {
   "cell_type": "code",
   "execution_count": 6,
   "metadata": {
    "collapsed": false
   },
   "outputs": [
    {
     "data": {
      "text/plain": [
       "'0'"
      ]
     },
     "execution_count": 6,
     "metadata": {},
     "output_type": "execute_result"
    }
   ],
   "source": [
    "# display the element at position 0\n",
    "x[0]"
   ]
  },
  {
   "cell_type": "code",
   "execution_count": 7,
   "metadata": {
    "collapsed": false
   },
   "outputs": [
    {
     "data": {
      "text/plain": [
       "'9'"
      ]
     },
     "execution_count": 7,
     "metadata": {},
     "output_type": "execute_result"
    }
   ],
   "source": [
    "# display the last element\n",
    "x[-1]"
   ]
  },
  {
   "cell_type": "code",
   "execution_count": 8,
   "metadata": {
    "collapsed": false
   },
   "outputs": [
    {
     "data": {
      "text/plain": [
       "'012345'"
      ]
     },
     "execution_count": 8,
     "metadata": {},
     "output_type": "execute_result"
    }
   ],
   "source": [
    "# display string \"012345\"\n",
    "x[:6]"
   ]
  },
  {
   "cell_type": "code",
   "execution_count": 9,
   "metadata": {
    "collapsed": false
   },
   "outputs": [
    {
     "data": {
      "text/plain": [
       "'345678'"
      ]
     },
     "execution_count": 9,
     "metadata": {},
     "output_type": "execute_result"
    }
   ],
   "source": [
    "# display string \"345678\"\n",
    "x[3:9]"
   ]
  },
  {
   "cell_type": "code",
   "execution_count": 10,
   "metadata": {
    "collapsed": false
   },
   "outputs": [
    {
     "data": {
      "text/plain": [
       "'02468'"
      ]
     },
     "execution_count": 10,
     "metadata": {},
     "output_type": "execute_result"
    }
   ],
   "source": [
    "# display only even numbers: \"02468\"  -- note use the Step\n",
    "x[::2]"
   ]
  },
  {
   "cell_type": "code",
   "execution_count": 11,
   "metadata": {
    "collapsed": false
   },
   "outputs": [
    {
     "data": {
      "text/plain": [
       "'13579'"
      ]
     },
     "execution_count": 11,
     "metadata": {},
     "output_type": "execute_result"
    }
   ],
   "source": [
    "# display only odd numbers: \"13579\"  -- note use the Step\n",
    "x[1::2]"
   ]
  },
  {
   "cell_type": "code",
   "execution_count": 12,
   "metadata": {
    "collapsed": false
   },
   "outputs": [
    {
     "data": {
      "text/plain": [
       "'9876543210'"
      ]
     },
     "execution_count": 12,
     "metadata": {},
     "output_type": "execute_result"
    }
   ],
   "source": [
    "# display the string in reverse order: \"9876543210\" -- note use the Step\n",
    "x[-1::-1]"
   ]
  },
  {
   "cell_type": "code",
   "execution_count": null,
   "metadata": {
    "collapsed": true
   },
   "outputs": [],
   "source": []
  }
 ],
 "metadata": {
  "anaconda-cloud": {},
  "kernelspec": {
   "display_name": "Python [Root]",
   "language": "python",
   "name": "Python [Root]"
  },
  "language_info": {
   "codemirror_mode": {
    "name": "ipython",
    "version": 3
   },
   "file_extension": ".py",
   "mimetype": "text/x-python",
   "name": "python",
   "nbconvert_exporter": "python",
   "pygments_lexer": "ipython3",
   "version": "3.5.1"
  }
 },
 "nbformat": 4,
 "nbformat_minor": 0
}

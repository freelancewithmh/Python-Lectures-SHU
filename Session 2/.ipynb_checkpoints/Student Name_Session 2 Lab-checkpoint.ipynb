{
 "cells": [
  {
   "cell_type": "markdown",
   "metadata": {},
   "source": [
    "<h1>Session 2 Lab</h1>\n",
    "\n",
    "<h2>FN299A: Introduction to Python for Financial Applications</h2>\n",
    "\n",
    "<h3>----Student Name Here----</h3>"
   ]
  },
  {
   "cell_type": "markdown",
   "metadata": {},
   "source": [
    "<h2>Exercise 1</h2>\n",
    "Create a script that prompts the user for a grade percentage (Number from 0 to 100).\n",
    "<br>\n",
    "If percentage is between 90 and 100, then inform the student he/she received an A.\n",
    "<br>\n",
    "If percentage is between 80 and 90 (not included), then inform the student he/she received a B.\n",
    "<br>\n",
    "If percentage is between 70 and 80 (not included), then inform the student he/she received a C.\n",
    "<br>\n",
    "If percentage is between 60 and 70 (not included), then inform the student he/she received a D.\n",
    "<br>\n",
    "Any other percentages - inform the student that they did not pass.\n"
   ]
  },
  {
   "cell_type": "code",
   "execution_count": null,
   "metadata": {
    "collapsed": true
   },
   "outputs": [],
   "source": []
  },
  {
   "cell_type": "markdown",
   "metadata": {},
   "source": [
    "<h2>Exercise 2</h2>\n",
    "\n",
    "<br>\n",
    "Create a script that prompts the user for an integer and calculates how many numbers it is divisible by.\n",
    "<br>\n",
    "Example: user enters 27,  script should return 4 - since 27 is divisible by 1, 3, 9 and 27.\n",
    "<br>\n",
    "Note: look up the modulus operator in Python (%)"
   ]
  },
  {
   "cell_type": "code",
   "execution_count": null,
   "metadata": {
    "collapsed": true
   },
   "outputs": [],
   "source": []
  },
  {
   "cell_type": "markdown",
   "metadata": {},
   "source": [
    "<h2>Exercise 2</h2>\n",
    "\n",
    "<br>\n",
    "Create a function that prompts the user for an integer and creates a comma delimited string with all the numbers that exactly divide the number\n",
    "<br>\n",
    "Example:  User entered 27,  function will return a string \"1, 3, 9, 27\"\n",
    "<br>\n",
    "Note: look up the modulus operator in Python (%)"
   ]
  },
  {
   "cell_type": "code",
   "execution_count": null,
   "metadata": {
    "collapsed": true
   },
   "outputs": [],
   "source": []
  },
  {
   "cell_type": "markdown",
   "metadata": {},
   "source": [
    "<h2>Exercise 3</h2>\n",
    "Create a script that:\n",
    "<br>\n",
    "<li>Prompts the user for the interest type to be calculated (1 = Continuous Compounding,  2 = Non-continuous Compounding)</li>\n",
    "<li>If user does not enter 1 or 2, prompt the user again</li>\n",
    "<li>If user selects 1 (Continuous Compounding), then prompt the user for: principal (p), annual interest (r), time in years (t)</li>\n",
    "<li>Validate that all the elements entered are greater than zero. If any element is less than zero, inform the user that the elements must be greater than zero.  Otherwise perform the calculation for Continuous Compounding</li>\n",
    "<li>Continuos Compounding should be calculated using the formula: amount = p&lowast;e&lowast;&lowast;(r&lowast;t) (where e = 2.718281828459045)\n",
    "<li>If user selects 2 (Non-continues Compounding), then prompt the user for: principal (p), annual interest (r), time in years (t), the number of times the interested is compounded per year (n)</li>\n",
    "<li>Validate that all the elements entered are greater than zero. If any element is less than zero, inform the user that the elemnets must be greater than zero. Otherwise perform the calculation for Non-Continuous compounding</li>\n",
    "<li>Non-contiuous Compounding should be calculated using the formula: amount = p &lowast; (1 + r/n)&lowast;&lowast;(n&lowast;t)</li>"
   ]
  },
  {
   "cell_type": "code",
   "execution_count": null,
   "metadata": {
    "collapsed": true
   },
   "outputs": [],
   "source": []
  },
  {
   "cell_type": "markdown",
   "metadata": {},
   "source": [
    "<h2>Exercise 4</h2>\n",
    "Factor code in Exercise 3 into 4 functions:\n",
    "<li>Function to validate inputs for Continuous Compound. Returns True if all elements are positive, False otherwise.</li>\n",
    "<li>Function to validate inputs for Non-Continuous Compound. Returns True if all elements are positive, False otherwise.</li>\n",
    "<li>Function to compute Continuous Compounding.</li>\n",
    "<li>Function to compute Non-continuous compounding</li>"
   ]
  },
  {
   "cell_type": "code",
   "execution_count": null,
   "metadata": {
    "collapsed": true
   },
   "outputs": [],
   "source": []
  }
 ],
 "metadata": {
  "anaconda-cloud": {},
  "kernelspec": {
   "display_name": "Python [Root]",
   "language": "python",
   "name": "Python [Root]"
  },
  "language_info": {
   "codemirror_mode": {
    "name": "ipython",
    "version": 3
   },
   "file_extension": ".py",
   "mimetype": "text/x-python",
   "name": "python",
   "nbconvert_exporter": "python",
   "pygments_lexer": "ipython3",
   "version": "3.5.1"
  }
 },
 "nbformat": 4,
 "nbformat_minor": 0
}

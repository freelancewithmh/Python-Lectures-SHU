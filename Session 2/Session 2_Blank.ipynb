{
 "cells": [
  {
   "cell_type": "markdown",
   "metadata": {},
   "source": [
    "<h1>Session 2</h1>\n",
    "\n",
    "<h2>FN299A: Introduction to Python for Financial Applications</h2>\n",
    "\n",
    "<h2>Control Structures</h2>\n",
    "<br>\n",
    "<b>\"Exploratory data analysis can never be the whole story, but nothing else can serve as the foundation stone.\"</b>\n",
    "<br>\n",
    "John Tukey\n"
   ]
  },
  {
   "cell_type": "markdown",
   "metadata": {},
   "source": [
    "<h2>Topics:</h2>\n",
    "\n",
    "* <a href=\"#BooleansAndDecisions\">Booleans and Decisions</a>\n",
    "* <a href=\"#IfStatement\">The if Statemen</a>\n",
    "* <a href=\"#IfStatementCont\">The if Statement ... continued</a>\n",
    "* <a href=\"#BooleanExpressions\">Boolean Logical Operators AND / OR / NOT</a>\n",
    "* <a href=\"#Repetition\">Repetition</a>\n",
    "* <a href=\"#NextSession\">Next Session!</a>"
   ]
  },
  {
   "cell_type": "markdown",
   "metadata": {},
   "source": [
    "<a id=\"#BooleansAndDecisions\"></a>\n",
    "<h2>Booleans and Decisions</h2>\n",
    "<br>\n",
    "New data type: Boolean\n",
    "<br>\n",
    "<br>\n",
    "Boolean Operators: expressions will evaluate to True or False\n",
    "<br>\n",
    "<table align=\"left\">\n",
    "<tr><th>Operator</th><th>Description</th></tr>\n",
    "<tr><td>&lt;</td><td>less than</td></tr>\n",
    "<tr><td>&gt;</td><td>greater than</td></tr>\n",
    "<tr><td>&lt;=</td><td>less than or equal</td></tr>\n",
    "<tr><td>&gt;=</td><td>greater than or equal</td></tr>\n",
    "<tr><td>==</td><td>equal to</td></tr>\n",
    "<tr><td>!=</td><td>not equal to</td></tr>\n",
    "</table>"
   ]
  },
  {
   "cell_type": "code",
   "execution_count": 1,
   "metadata": {
    "collapsed": true
   },
   "outputs": [],
   "source": [
    "x = 3\n",
    "y = 3.5\n",
    "first_name = 'John'"
   ]
  },
  {
   "cell_type": "code",
   "execution_count": null,
   "metadata": {
    "collapsed": true
   },
   "outputs": [],
   "source": []
  },
  {
   "cell_type": "code",
   "execution_count": null,
   "metadata": {
    "collapsed": true
   },
   "outputs": [],
   "source": []
  },
  {
   "cell_type": "code",
   "execution_count": null,
   "metadata": {
    "collapsed": true
   },
   "outputs": [],
   "source": []
  },
  {
   "cell_type": "markdown",
   "metadata": {},
   "source": [
    "<a id=\"#IfStatement\"></a>\n",
    "<h2>The if Statement</h2>\n",
    "if boolean_expression:\n",
    "<br>\n",
    "<span style=\"display: inline-block; width: 2ch;\">&#9;</span>\n",
    "do this"
   ]
  },
  {
   "cell_type": "code",
   "execution_count": 3,
   "metadata": {
    "collapsed": false
   },
   "outputs": [],
   "source": [
    "# if first_name is John, then print 'Hi John, nice to meet you'\n",
    "\n",
    "first_name = 'Mary'\n",
    "\n"
   ]
  },
  {
   "cell_type": "markdown",
   "metadata": {},
   "source": [
    "<a id=\"#IfStatementCont\"></a>\n",
    "<h2>The if Statement ... continued</h2>\n",
    "if boolean_expression:\n",
    "<br>\n",
    "<span style=\"display: inline-block; width: 2ch;\">&#9;</span>\n",
    "do this\n",
    "<br>\n",
    "else:\n",
    "<br>\n",
    "<span style=\"display: inline-block; width: 2ch;\">&#9;</span>\n",
    "do something else"
   ]
  },
  {
   "cell_type": "code",
   "execution_count": null,
   "metadata": {
    "collapsed": true
   },
   "outputs": [],
   "source": [
    "# Example 1: if first_name is John, then print 'Hi John, nice to meet you', otherwise print 'I don't know your name'\n",
    "\n",
    "first_name = 'Mary'"
   ]
  },
  {
   "cell_type": "code",
   "execution_count": null,
   "metadata": {
    "collapsed": true
   },
   "outputs": [],
   "source": [
    "# Example 2: prompt user for how many pounds their suitcase has.  \n",
    "# If weight of suitcase is greater than 50 pounds, then inform the user than there is a $25 dollar extra charge for suitecase. \n",
    "# Otherwise there is no extra charge.\n"
   ]
  },
  {
   "cell_type": "code",
   "execution_count": null,
   "metadata": {
    "collapsed": true
   },
   "outputs": [],
   "source": [
    "# If number N is between values x and y\n",
    "# if x <= N < y:"
   ]
  },
  {
   "cell_type": "markdown",
   "metadata": {},
   "source": [
    "<h2>The if Statement ... continued - part two</h2>\n",
    "if boolean_expression:\n",
    "<br>\n",
    "<span style=\"display: inline-block; width: 2ch;\">&#9;</span>\n",
    "do this 1\n",
    "<br>\n",
    "elif boolean_expression:\n",
    "<br>\n",
    "<span style=\"display: inline-block; width: 2ch;\">&#9;</span>\n",
    "do this 2\n",
    "<br>\n",
    "else\n",
    "<br>\n",
    "<span style=\"display: inline-block; width: 2ch;\">&#9;</span>\n",
    "do this 3"
   ]
  },
  {
   "cell_type": "code",
   "execution_count": 6,
   "metadata": {
    "collapsed": true
   },
   "outputs": [],
   "source": [
    "# If income_level < 40,000 then print \"Low Income\"\n",
    "# If income_level betweeen 40,001 and 100,000 then print 'Mediun Income'\n",
    "# If income_level > 100,001 then print \"High Income\n",
    "\n"
   ]
  },
  {
   "cell_type": "markdown",
   "metadata": {},
   "source": [
    "<a id=\"#BooleanExpressions\"></a>\n",
    "\n",
    "<h2>Boolean Logical Operators AND / OR / NOT</h2>\n",
    "<table align=\"left\">\n",
    "<tr><th>Operator</th><th>Description</th></tr>\n",
    "<tr><td>AND</td><td>If both the operands are true then condition becomes true.</td></tr>\n",
    "<tr><td>OR</td><td>If any of the two operands are non-zero then condition becomes true.</td></tr>\n",
    "</table>"
   ]
  },
  {
   "cell_type": "code",
   "execution_count": null,
   "metadata": {
    "collapsed": true
   },
   "outputs": [],
   "source": [
    "# check if x is > 0 or y > 0\n",
    "# check if x is < 0 or y < 0\n",
    "# check if x is < 0 and y < 0\n",
    "# check if x is > 0 and y > 0"
   ]
  },
  {
   "cell_type": "markdown",
   "metadata": {},
   "source": [
    "<a id=\"#Repetition\"></a>\n",
    "<h2>Repetition</h2>\n",
    "<br>\n",
    "Basic while:\n",
    "<br>\n",
    "<br>\n",
    "while boolean_expression:\n",
    "<br>\n",
    "<span style=\"display: inline-block; width: 2ch;\">&#9;</span>\n",
    "    do something"
   ]
  },
  {
   "cell_type": "code",
   "execution_count": 16,
   "metadata": {
    "collapsed": false
   },
   "outputs": [],
   "source": [
    "# while x is < 25,  add 5 to x and print the value of x\n"
   ]
  },
  {
   "cell_type": "code",
   "execution_count": 22,
   "metadata": {
    "collapsed": false
   },
   "outputs": [],
   "source": [
    "# Prompt the user for 1 - compound interest,  2 - simple interest.  Keep prompting user until user enters correct choice\n",
    "# Create an infinite loop to prompt the user for the input.  Break out of the loop once the correct choice has been entered.\n",
    "\n"
   ]
  },
  {
   "cell_type": "code",
   "execution_count": null,
   "metadata": {
    "collapsed": true
   },
   "outputs": [],
   "source": []
  },
  {
   "cell_type": "markdown",
   "metadata": {},
   "source": [
    "<a id=\"#NextSession\"></a>\n",
    "<h2>Next Session!</h2>\n",
    "Lists, Tuples and Dictionaries.\n"
   ]
  },
  {
   "cell_type": "code",
   "execution_count": null,
   "metadata": {
    "collapsed": true
   },
   "outputs": [],
   "source": []
  }
 ],
 "metadata": {
  "kernelspec": {
   "display_name": "Python [Root]",
   "language": "python",
   "name": "Python [Root]"
  },
  "language_info": {
   "codemirror_mode": {
    "name": "ipython",
    "version": 3
   },
   "file_extension": ".py",
   "mimetype": "text/x-python",
   "name": "python",
   "nbconvert_exporter": "python",
   "pygments_lexer": "ipython3",
   "version": "3.5.1"
  }
 },
 "nbformat": 4,
 "nbformat_minor": 0
}

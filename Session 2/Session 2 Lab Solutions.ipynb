{
 "cells": [
  {
   "cell_type": "markdown",
   "metadata": {},
   "source": [
    "<h1>Session 2 Lab</h1>\n",
    "\n",
    "<h2>FN299A: Introduction to Python for Financial Applications</h2>\n",
    "\n",
    "<h3>----Solutions---</h3>"
   ]
  },
  {
   "cell_type": "markdown",
   "metadata": {},
   "source": [
    "<h2>Exercise 1</h2>\n",
    "Create a script that prompts the user for a grade percentage (Number from 0 to 100).\n",
    "<br>\n",
    "If percentage is between 90 and 100, then inform the student he/she received an A.\n",
    "<br>\n",
    "If percentage is between 80 and 90 (not included), then inform the student he/she received a B.\n",
    "<br>\n",
    "If percentage is between 70 and 80 (not included), then inform the student he/she received a C.\n",
    "<br>\n",
    "If percentage is between 60 and 70 (not included), then inform the student he/she received a D.\n",
    "<br>\n",
    "Any other percentages - inform the student that they did not pass.\n"
   ]
  },
  {
   "cell_type": "code",
   "execution_count": 2,
   "metadata": {
    "collapsed": false
   },
   "outputs": [
    {
     "name": "stdout",
     "output_type": "stream",
     "text": [
      "Enter grade: 66\n",
      "You received a D\n"
     ]
    }
   ],
   "source": [
    "x_percent_float = float(input('Enter grade: '))\n",
    "\n",
    "if 90 <= x_percent_float <= 100:\n",
    "    print('You received an A')\n",
    "elif 80 <= x_percent_float < 90:\n",
    "    print('You received a B')\n",
    "elif 70 <= x_percent_float < 80:\n",
    "    print('You received a C')\n",
    "elif 60 <= x_percent_float < 70:\n",
    "    print('You received a D')\n",
    "else:\n",
    "    print('You did not pass')"
   ]
  },
  {
   "cell_type": "markdown",
   "metadata": {},
   "source": [
    "<h2>Exercise 2</h2>\n",
    "\n",
    "<br>\n",
    "Create a script that prompts the user for an integer and calculates how many numbers it is divisible by.\n",
    "<br>\n",
    "Example: user enters 27,  script should return 4 - since 27 is divisible by 1, 3, 9 and 27.\n",
    "<br>\n",
    "Note: look up the modulus operator in Python (%)"
   ]
  },
  {
   "cell_type": "code",
   "execution_count": 9,
   "metadata": {
    "collapsed": false
   },
   "outputs": [
    {
     "name": "stdout",
     "output_type": "stream",
     "text": [
      "Enter a number: 27\n",
      "4\n"
     ]
    }
   ],
   "source": [
    "x_int = int(input('Enter a number: '))\n",
    "\n",
    "div_int = 1\n",
    "cnt = 0\n",
    "\n",
    "while x_int >= div_int:\n",
    "    if x_int % div_int == 0:\n",
    "        cnt+=1\n",
    "    div_int+=1\n",
    "    \n",
    "print(cnt)"
   ]
  },
  {
   "cell_type": "markdown",
   "metadata": {},
   "source": [
    "<h2>Exercise 2</h2>\n",
    "\n",
    "<br>\n",
    "Create a function that prompts the user for an integer and creates a comma delimited string with all the numbers that exactly divide the number\n",
    "<br>\n",
    "Example:  User entered 27,  function will return a string \"1, 3, 9, 27\"\n",
    "<br>\n",
    "Note: look up the modulus operator in Python (%)"
   ]
  },
  {
   "cell_type": "code",
   "execution_count": 12,
   "metadata": {
    "collapsed": false
   },
   "outputs": [
    {
     "name": "stdout",
     "output_type": "stream",
     "text": [
      "Enter a number: 27\n",
      "1,3,9,27\n"
     ]
    }
   ],
   "source": [
    "\n",
    "\n",
    "def find_divisors(x_int):\n",
    "    div_int = 1\n",
    "    cnt = 0\n",
    "    return_str = ''\n",
    "    while x_int >= div_int:\n",
    "        if x_int % div_int == 0:\n",
    "            if len(return_str) > 0:\n",
    "                return_str = return_str + ',' + str(div_int)\n",
    "            else:\n",
    "                return_str = str(div_int)\n",
    "        div_int+=1\n",
    "    return return_str;\n",
    "\n",
    "        \n",
    "x_int = int(input('Enter a number: '))\n",
    "\n",
    "print(find_divisors(x_int))\n"
   ]
  },
  {
   "cell_type": "markdown",
   "metadata": {},
   "source": [
    "<h2>Exercise 3</h2>\n",
    "Create a script that:\n",
    "<br>\n",
    "<li>Prompts the user for the interest type to be calculated (1 = Continuous Compounding,  2 = Non-continuous Compounding)</li>\n",
    "<li>If user does not enter 1 or 2, prompt the user again</li>\n",
    "<li>If user selects 1 (Continuous Compounding), then prompt the user for: principal (p), annual interest (r), time in years (t)</li>\n",
    "<li>Validate that all the elements entered are greater than zero. If any element is less than zero, inform the user that the elements must be greater than zero.  Otherwise perform the calculation for Continuous Compounding</li>\n",
    "<li>Continuos Compounding should be calculated using the formula: amount = p&lowast;e&lowast;&lowast;(r&lowast;t) (where e = 2.718281828459045)\n",
    "<li>If user selects 2 (Non-continues Compounding), then prompt the user for: principal (p), annual interest (r), time in years (t), the number of times the interested is compounded per year (n)</li>\n",
    "<li>Validate that all the elements entered are greater than zero. If any element is less than zero, inform the user that the elemnets must be greater than zero. Otherwise perform the calculation for Non-Continuous compounding</li>\n",
    "<li>Non-contiuous Compounding should be calculated using the formula: amount = p &lowast; (1 + r/n)&lowast;&lowast;(n&lowast;t)</li>"
   ]
  },
  {
   "cell_type": "code",
   "execution_count": 21,
   "metadata": {
    "collapsed": false
   },
   "outputs": [
    {
     "name": "stdout",
     "output_type": "stream",
     "text": [
      "Enter interest type (1 = Continuous Compounding, 2 = Non-continuous Compounding): 2\n",
      "Enter principal: 20000\n",
      "Enter interest: .05\n",
      "Enter time in years: 5\n",
      "Number of times interest is compounded per year: 12\n",
      "25667.173570070237\n"
     ]
    }
   ],
   "source": [
    "interest_type_str = ''\n",
    "e = 2.718281828459045\n",
    "while True:\n",
    "    interest_type_str = input('Enter interest type (1 = Continuous Compounding, 2 = Non-continuous Compounding): ')\n",
    "    if interest_type_str == '1' or interest_type_str == '2':\n",
    "        break;\n",
    "        \n",
    "if interest_type_str == '1':  ## Continuous Compounding\n",
    "    principal_float = float(input('Enter principal: '))\n",
    "    annual_interest_float = float(input('Enter interest: '))\n",
    "    time_in_years_int = int(input('Enter time in years: '))\n",
    "    if principal_float < 0 or annual_interest_float < 0 or time_in_years_int < 0:\n",
    "        print('principal, annual interest and time must be greater than zero')\n",
    "    else:\n",
    "        cont_comp_float = principal_float*(e**(annual_interest_float*time_in_years_int))\n",
    "        print('Continuous compounding: ' + str(cont_comp_float))\n",
    "\n",
    "if interest_type_str == '2':  ## Non-continuous Compounding\n",
    "    principal_float = float(input('Enter principal: '))\n",
    "    annual_interest_float = float(input('Enter interest: '))\n",
    "    time_in_years_int = int(input('Enter time in years: '))\n",
    "    number_of_times = int(input('Number of times interest is compounded per year: '))\n",
    "    if principal_float < 0 or annual_interest_float < 0 or time_in_years_int < 0 or number_of_times < 0:\n",
    "        print('principal, annual interest. time (in years) and numer of times interest is computer per year must be greater than zero')\n",
    "    else:\n",
    "        non_cont_comp_float = principal_float*(1 + (annual_interest_float/number_of_times))**(number_of_times*time_in_years_int)\n",
    "        print(non_cont_comp_float)"
   ]
  },
  {
   "cell_type": "markdown",
   "metadata": {},
   "source": [
    "<h2>Exercise 4</h2>\n",
    "Factor code in Exercise 3 into 4 functions:\n",
    "<li>Function to validate inputs for Continuous Compound. Returns True if all elements are positive, False otherwise.</li>\n",
    "<li>Function to validate inputs for Non-Continuous Compound. Returns True if all elements are positive, False otherwise.</li>\n",
    "<li>Function to compute Continuous Compounding.</li>\n",
    "<li>Function to compute Non-continuous compounding</li>"
   ]
  },
  {
   "cell_type": "code",
   "execution_count": 30,
   "metadata": {
    "collapsed": true
   },
   "outputs": [],
   "source": [
    "def valid_cont_comp_input(principal_float,annual_interest_float,time_in_years_int):\n",
    "    if principal_float > 0 or annual_interest_float > 0 or time_in_years_int > 0:\n",
    "        return True\n",
    "    else:\n",
    "        return False"
   ]
  },
  {
   "cell_type": "code",
   "execution_count": 35,
   "metadata": {
    "collapsed": true
   },
   "outputs": [],
   "source": [
    "def valid_non_cont_comp_input(principal_float,annual_interest_float,time_in_years_int, number_of_times):\n",
    "    if principal_float > 0 and annual_interest_float > 0 and time_in_years_int > 0 and number_of_times > 0:\n",
    "        return True\n",
    "    else:\n",
    "        return False"
   ]
  },
  {
   "cell_type": "code",
   "execution_count": 36,
   "metadata": {
    "collapsed": true
   },
   "outputs": [],
   "source": [
    "def compute_cont_comp(principal_float,annual_interest_float,time_in_years_int):\n",
    "    e = 2.718281828459045\n",
    "    return principal_float*(e**(annual_interest_float*time_in_years_int))"
   ]
  },
  {
   "cell_type": "code",
   "execution_count": 37,
   "metadata": {
    "collapsed": true
   },
   "outputs": [],
   "source": [
    "def compute_non_cont_comp(principal_float,annual_interest_float,time_in_years_int, number_of_times):\n",
    "    return principal_float*(1 + (annual_interest_float/number_of_times))**(number_of_times*time_in_years_int)"
   ]
  },
  {
   "cell_type": "code",
   "execution_count": 41,
   "metadata": {
    "collapsed": false
   },
   "outputs": [
    {
     "name": "stdout",
     "output_type": "stream",
     "text": [
      "Enter interest type (1 = Continuous Compounding, 2 = Non-continuous Compounding): 2\n",
      "Enter principal: 20000\n",
      "Enter interest: 0.05\n",
      "Enter time in years: 5\n",
      "Number of times interest is compounded per year: 12\n",
      "Non Cont Compounding: 25667.173570070237\n"
     ]
    }
   ],
   "source": [
    "while True:\n",
    "    interest_type_str = input('Enter interest type (1 = Continuous Compounding, 2 = Non-continuous Compounding): ')\n",
    "    if interest_type_str == '1' or interest_type_str == '2':\n",
    "        break;\n",
    "\n",
    "if interest_type_str == '1':  ## Continuous Compounding\n",
    "    principal_float = float(input('Enter principal: '))\n",
    "    annual_interest_float = float(input('Enter interest: '))\n",
    "    time_in_years_int = int(input('Enter time in years: '))\n",
    "    if valid_cont_comp_input(principal_float,annual_interest_float,time_in_years_int):\n",
    "        cont_comp_float = compute_cont_comp(principal_float,annual_interest_float,time_in_years_int)\n",
    "        print('Continuous compounding: ' + str(cont_comp_float))\n",
    "    else:\n",
    "        print('principal, annual interest and time must be greater than zero')\n",
    "                \n",
    "if interest_type_str == '2':  ## Non-continuous Compounding\n",
    "    principal_float = float(input('Enter principal: '))\n",
    "    annual_interest_float = float(input('Enter interest: '))\n",
    "    time_in_years_int = int(input('Enter time in years: '))\n",
    "    number_of_times = int(input('Number of times interest is compounded per year: '))\n",
    "    if valid_non_cont_comp_input(principal_float,annual_interest_float,time_in_years_int, number_of_times):\n",
    "        non_cont_comp_float = compute_non_cont_comp(principal_float,annual_interest_float,time_in_years_int, number_of_times)\n",
    "        print('Non Cont Compounding: ' + str(non_cont_comp_float))\n",
    "    else:\n",
    "        print('principal, annual interest. time (in years) and numer of times interest is computer per year must be greater than zero')\n",
    "      \n",
    "\n"
   ]
  },
  {
   "cell_type": "code",
   "execution_count": null,
   "metadata": {
    "collapsed": true
   },
   "outputs": [],
   "source": []
  }
 ],
 "metadata": {
  "anaconda-cloud": {},
  "kernelspec": {
   "display_name": "Python [Root]",
   "language": "python",
   "name": "Python [Root]"
  },
  "language_info": {
   "codemirror_mode": {
    "name": "ipython",
    "version": 3
   },
   "file_extension": ".py",
   "mimetype": "text/x-python",
   "name": "python",
   "nbconvert_exporter": "python",
   "pygments_lexer": "ipython3",
   "version": "3.5.1"
  }
 },
 "nbformat": 4,
 "nbformat_minor": 0
}

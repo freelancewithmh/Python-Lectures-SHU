{
 "cells": [
  {
   "cell_type": "markdown",
   "metadata": {},
   "source": [
    "<h2>Session 3</h2>\n",
    "Session 3: Lists, Tuples and Dictionaries"
   ]
  },
  {
   "cell_type": "markdown",
   "metadata": {},
   "source": [
    "<h2>Topics:</h2>\n",
    "\n",
    "* <a href=\"#Lists\">Lists</a>\n",
    "* <a href=\"#Dictionaries\">Dictionaries</a>\n",
    "* <a href=\"#Tuples\">Tuples</a>\n",
    "* <a href=\"#NextSession\">Next Session!</a>"
   ]
  },
  {
   "cell_type": "markdown",
   "metadata": {},
   "source": [
    "<a id=\"#Lists\"></a>\n",
    "<h2>Lists</h2>\n",
    "<li>Lists can contain a sequence of elements of any type, even different types mixed together.</li>\n",
    "<li>Lists can be changed (mutable).</li>\n",
    "<li>Use [] to make a list.</li>"
   ]
  },
  {
   "cell_type": "code",
   "execution_count": null,
   "metadata": {
    "collapsed": true
   },
   "outputs": [],
   "source": [
    "#mixed_type_list = [1,2.5,'a string', True]\n",
    "#months_of_year = ['Jan', 'Feb', 'Mar', 'Apr', 'May', 'Jun', 'Jul', 'Aug', 'Sep', 'Oct', 'Nov', 'Dec']"
   ]
  },
  {
   "cell_type": "code",
   "execution_count": null,
   "metadata": {
    "collapsed": true
   },
   "outputs": [],
   "source": []
  },
  {
   "cell_type": "code",
   "execution_count": null,
   "metadata": {
    "collapsed": true
   },
   "outputs": [],
   "source": []
  },
  {
   "cell_type": "markdown",
   "metadata": {},
   "source": [
    "<h2>List Indexes</h2>\n",
    "Same as strings! \n",
    "<br>\n",
    "colors = ['red', 'blue', 'green']\n",
    "<br>\n",
    "<table align=\"left\">\n",
    "<tr><td></td><td>red</td><td>blue</td><td>green</td></tr>\n",
    "<tr><td>Index</td><td>0</td><td>1</td><td>2</td></tr>\n",
    "<tr><td>Index</td><td>-3</td><td>-2</td><td>-1</td></tr>\n",
    "</table>"
   ]
  },
  {
   "cell_type": "code",
   "execution_count": null,
   "metadata": {
    "collapsed": true
   },
   "outputs": [],
   "source": []
  },
  {
   "cell_type": "code",
   "execution_count": null,
   "metadata": {
    "collapsed": true
   },
   "outputs": [],
   "source": []
  },
  {
   "cell_type": "markdown",
   "metadata": {},
   "source": [
    "<h2>List of Lists</h2>\n",
    "list_of_list = [[1,2,3,4,5,7,8,9,10], ['a', 'b', 'c','d','e']]"
   ]
  },
  {
   "cell_type": "code",
   "execution_count": null,
   "metadata": {
    "collapsed": true
   },
   "outputs": [],
   "source": []
  },
  {
   "cell_type": "markdown",
   "metadata": {},
   "source": [
    "<h2>List Slicing: same as arrays!</h2>\n",
    "<br>\n",
    "List[StartIndex:EndIndex]\n",
    "<br>\n",
    "List[StartIndex:EndIndex:Steps]\n",
    "<br>\n",
    "<br>\n",
    "<b>Note:</b>If StartIndex is blank - 0 is assumed.  If EndIndex is not included, end of list is implied.  If Steps is blank or not included - one is assumed"
   ]
  },
  {
   "cell_type": "markdown",
   "metadata": {},
   "source": [
    "number_list = [100, 200, 300,400,500,600,700,800,900,1000,1100]\n",
    "\n",
    "<table align=\"left\">\n",
    "<tr><td></td><td>100</td><td>200</td><td>300</td><td>400</td><td>500</td><td>600</td><td>700</td><td>800</td><td>900</td><td>1000</td><td>1100</td></tr>\n",
    "<tr><td>Index</td><td>0</td><td>1</td><td>2</td><td>3</td><td>4</td><td>5</td><td>6</td><td>7</td><td>8</td><td>9</td><td>10</td></tr>\n",
    "<tr><td>Index</td><td>-11</td><td>-10</td><td>-9</td><td>-8</td><td>-7</td><td>-6</td><td>-5</td><td>-4</td><td>-3</td><td>-2</td><td>-1</td></tr>\n",
    "</table>"
   ]
  },
  {
   "cell_type": "code",
   "execution_count": null,
   "metadata": {
    "collapsed": true
   },
   "outputs": [],
   "source": [
    "#number_list = [100, 200, 300,400,500,600,700,800,900,1000,1100]"
   ]
  },
  {
   "cell_type": "code",
   "execution_count": null,
   "metadata": {
    "collapsed": true
   },
   "outputs": [],
   "source": [
    "#Get list elements: 100,200,300,400"
   ]
  },
  {
   "cell_type": "code",
   "execution_count": null,
   "metadata": {
    "collapsed": true
   },
   "outputs": [],
   "source": [
    "#Get list elements: 500,600,700,800,900"
   ]
  },
  {
   "cell_type": "code",
   "execution_count": null,
   "metadata": {
    "collapsed": true
   },
   "outputs": [],
   "source": [
    "#Get list elements: 900,1000, 1100"
   ]
  },
  {
   "cell_type": "code",
   "execution_count": null,
   "metadata": {
    "collapsed": true
   },
   "outputs": [],
   "source": [
    "#Get list elements starting at the last element in reverse order: 1100, 1000, 900"
   ]
  },
  {
   "cell_type": "code",
   "execution_count": null,
   "metadata": {
    "collapsed": true
   },
   "outputs": [],
   "source": [
    "#Get list elements start at position zero.  Get only every other element: 100, 300, 500, 700, 800, 1000"
   ]
  },
  {
   "cell_type": "code",
   "execution_count": null,
   "metadata": {
    "collapsed": true
   },
   "outputs": [],
   "source": [
    "#Indexing list of lists!  Get the first element of the first list of list_of_lists\n",
    "#list_of_list[0][0]"
   ]
  },
  {
   "cell_type": "markdown",
   "metadata": {},
   "source": [
    "<h2>More Control Structures!</h2>"
   ]
  },
  {
   "cell_type": "markdown",
   "metadata": {},
   "source": [
    "<h2>For control</h2>\n",
    "for variable in <list>:\n",
    "<br>\n",
    "<span style=\"display: inline-block; width: 2ch;\">&#9;</span>\n",
    "    do something"
   ]
  },
  {
   "cell_type": "code",
   "execution_count": null,
   "metadata": {
    "collapsed": true
   },
   "outputs": [],
   "source": [
    "#For each color in colors print the the color"
   ]
  },
  {
   "cell_type": "code",
   "execution_count": null,
   "metadata": {
    "collapsed": true
   },
   "outputs": [],
   "source": [
    "#For each month in months print the length of the month"
   ]
  },
  {
   "cell_type": "markdown",
   "metadata": {},
   "source": [
    "<h2>Range</h2>\n",
    "range(N):\n",
    "<br>\n",
    "Built in Python function to generate a range of numbers.  Go from 0 to N-1\n",
    "<br>\n",
    "range(Start_N, N):\n",
    "<br>\n",
    "Go from Start_N to N-1"
   ]
  },
  {
   "cell_type": "code",
   "execution_count": null,
   "metadata": {
    "collapsed": true
   },
   "outputs": [],
   "source": []
  },
  {
   "cell_type": "code",
   "execution_count": null,
   "metadata": {
    "collapsed": true
   },
   "outputs": [],
   "source": []
  },
  {
   "cell_type": "markdown",
   "metadata": {},
   "source": [
    "<h2>Boolean operator for Lists:  in</h2>\n",
    "value in list"
   ]
  },
  {
   "cell_type": "code",
   "execution_count": null,
   "metadata": {
    "collapsed": true
   },
   "outputs": [],
   "source": []
  },
  {
   "cell_type": "markdown",
   "metadata": {},
   "source": [
    "<h2>Most commonly used list methods</h2>\n",
    "<li>append(elem): adds a single element to the end of the list.</li>\n",
    "<li>insert(index, elem): inserts the element at the given index, shifting elements to the right.</li>\n",
    "<li>extend(list2): adds the elements in list2 to the end of the list.</li>\n",
    "<li>index(elem): searches for the given element from the start of the list and returns its index.</li>\n",
    "<li>remove(elem): searches for the first instance of the given element and removes it (throws ValueError if not present).</li>\n",
    "<li>sort(): sorts the list in place.</li>\n",
    "<li>reverse(): reverses the list in place.</li>\n",
    "<li>pop(index): removes and returns the element at the given index.</li>\n"
   ]
  },
  {
   "cell_type": "code",
   "execution_count": null,
   "metadata": {
    "collapsed": true
   },
   "outputs": [],
   "source": []
  },
  {
   "cell_type": "code",
   "execution_count": null,
   "metadata": {
    "collapsed": true
   },
   "outputs": [],
   "source": []
  },
  {
   "cell_type": "code",
   "execution_count": null,
   "metadata": {
    "collapsed": true
   },
   "outputs": [],
   "source": []
  },
  {
   "cell_type": "markdown",
   "metadata": {},
   "source": [
    "<h2>Building a new list</h2>\n",
    "One common pattern is to start a list a the empty list [], then use append() or extend() to add elements to it:\n",
    "<br>\n",
    "new_list = []\n",
    "<br>\n",
    "new_list.append('a')\n",
    "<br>\n",
    "new_list.append('b')"
   ]
  },
  {
   "cell_type": "code",
   "execution_count": null,
   "metadata": {
    "collapsed": true
   },
   "outputs": [],
   "source": []
  },
  {
   "cell_type": "markdown",
   "metadata": {},
   "source": [
    "<a id=\"#Dictionaries\"></a>\n",
    "<h2>Dictionaries</h2>\n",
    "A dictionary in Python is a collection of unordered values accessed by key rather than by index.\n",
    "<br>\n",
    "demographic_dict = {'FirstName':'John', 'LastName':'Smith', 'Age':25, 'Profession':'Student'}"
   ]
  },
  {
   "cell_type": "code",
   "execution_count": null,
   "metadata": {
    "collapsed": true
   },
   "outputs": [],
   "source": []
  },
  {
   "cell_type": "code",
   "execution_count": null,
   "metadata": {
    "collapsed": true
   },
   "outputs": [],
   "source": []
  },
  {
   "cell_type": "code",
   "execution_count": null,
   "metadata": {
    "collapsed": true
   },
   "outputs": [],
   "source": []
  },
  {
   "cell_type": "markdown",
   "metadata": {},
   "source": [
    "<h2>Dictionaries: values as lists, int, dict </h2>\n",
    "student_dict = {'computer languages':['c#','java','python', 'R'], 2018: {'a':1, 'b':2,'c':3}, 'year':2018}"
   ]
  },
  {
   "cell_type": "code",
   "execution_count": null,
   "metadata": {
    "collapsed": true
   },
   "outputs": [],
   "source": []
  },
  {
   "cell_type": "code",
   "execution_count": null,
   "metadata": {
    "collapsed": true
   },
   "outputs": [],
   "source": []
  },
  {
   "cell_type": "markdown",
   "metadata": {},
   "source": [
    "<h2>Dictionaries most commonly used methods</h2>\n",
    "<li>keys(): all the keys as a list</li>\n",
    "<li>items(): all the key-value paris as a slist of tuples</li>\n",
    "<li>values(): all values as a list</li>\n"
   ]
  },
  {
   "cell_type": "code",
   "execution_count": null,
   "metadata": {
    "collapsed": true
   },
   "outputs": [],
   "source": [
    "#Show how to add/modify a list"
   ]
  },
  {
   "cell_type": "markdown",
   "metadata": {},
   "source": [
    "<a id=\"#Tuples\"></a>\n",
    "<h2>Tuples</h2>\n",
    "Tuples are immutable lists!  Just like lists - they can have elements of different types:\n",
    "<br>\n",
    "new_tuple = ('h','e', 'l', 'l','o')\n",
    "<br>\n",
    "new_tupple2 = ('hello', 'a', 1,3, 10.9, -10, True)"
   ]
  },
  {
   "cell_type": "code",
   "execution_count": null,
   "metadata": {
    "collapsed": true
   },
   "outputs": [],
   "source": [
    "new_tuple = ('h','e', 'l', 'l','o') \n",
    "new_tupple2 = ('hello', 'a', 1,3, 10.9, -10, True)\n"
   ]
  },
  {
   "cell_type": "code",
   "execution_count": null,
   "metadata": {
    "collapsed": true
   },
   "outputs": [],
   "source": []
  },
  {
   "cell_type": "code",
   "execution_count": null,
   "metadata": {
    "collapsed": true
   },
   "outputs": [],
   "source": [
    "#Look at the two methods available (index and count)\n",
    "#count\n"
   ]
  },
  {
   "cell_type": "code",
   "execution_count": null,
   "metadata": {
    "collapsed": true
   },
   "outputs": [],
   "source": [
    "#index\n"
   ]
  },
  {
   "cell_type": "markdown",
   "metadata": {},
   "source": [
    "<a id=\"#NextSession\"></a>\n",
    "<h2>Next Session</h2>\n",
    "Pandas and Numpy libraries!"
   ]
  }
 ],
 "metadata": {
  "kernelspec": {
   "display_name": "Python [Root]",
   "language": "python",
   "name": "Python [Root]"
  },
  "language_info": {
   "codemirror_mode": {
    "name": "ipython",
    "version": 3
   },
   "file_extension": ".py",
   "mimetype": "text/x-python",
   "name": "python",
   "nbconvert_exporter": "python",
   "pygments_lexer": "ipython3",
   "version": "3.5.1"
  }
 },
 "nbformat": 4,
 "nbformat_minor": 0
}

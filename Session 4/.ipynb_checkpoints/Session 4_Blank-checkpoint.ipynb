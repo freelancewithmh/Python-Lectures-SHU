{
 "cells": [
  {
   "cell_type": "markdown",
   "metadata": {},
   "source": [
    "<h2>Session 4: numpy and pandas</h2>\n",
    "\n",
    "<h2>FN299A: Introduction to Python for Financial Applications</h2>\n"
   ]
  },
  {
   "cell_type": "markdown",
   "metadata": {},
   "source": [
    "<h2>Topics:</h2>\n",
    "\n",
    "* <a href=\"#numpy\">Numpy</a>\n",
    "* <a href=\"#Pandas\">Pandas</a>\n",
    "* <a href=\"#Series\">Pandas: Series</a>\n",
    "* <a href=\"#DataFrame\">Pandas: DataFrame</a>"
   ]
  },
  {
   "cell_type": "markdown",
   "metadata": {},
   "source": [
    "<a id=\"#Numpy\"></a>\n",
    "<h2>numpy Basics</h2>\n",
    "<li>Fast array manipulations (ndarray)</li>\n",
    "<li>Mathematical functions that operate on entire arrays</li>\n",
    "<li>Random number generator</li>\n",
    "<li>Tools for reading data from files into arrays</li>"
   ]
  },
  {
   "cell_type": "markdown",
   "metadata": {},
   "source": [
    "<a id=\"#Pandas\"></a>\n",
    "\n",
    "<h2>pandas</h2>\n",
    "\n",
    "<a id=\"#Series\"></a>\n",
    "<h3>Series</h3>\n",
    "\n",
    "Series is a one-dimensional labeled array (ndarray) capable of holding any data type.\n",
    "<br>\n",
    "Create a Series using the \"Series\" keyword and passing a List as the parameters.  Remember that a List is created by using square brackets ([]).\n",
    "<br>\n",
    "mySeries = Series([1,2,3,4,5])\n",
    "\n"
   ]
  },
  {
   "cell_type": "code",
   "execution_count": null,
   "metadata": {
    "collapsed": false
   },
   "outputs": [],
   "source": [
    "#import the pandas and numpy libraries\n",
    "#creating mySeries\n",
    "\n",
    "import pandas as pd\n",
    "import numpy as np\n",
    "\n"
   ]
  },
  {
   "cell_type": "code",
   "execution_count": null,
   "metadata": {
    "collapsed": true
   },
   "outputs": [],
   "source": [
    "#import using --from-- no need to refer to pandas when calling Series\n",
    "#creating mySeries - option 2\n",
    "\n",
    "from pandas import Series\n",
    "\n"
   ]
  },
  {
   "cell_type": "markdown",
   "metadata": {},
   "source": [
    "<h2>Series - data types</h2>\n",
    "\n",
    "Series will try to infer the datatype for the values in the Series (float, int, string, boolean - etc).  \"object\" is the data type assigned to the Series if the series determines that the common data type is string."
   ]
  },
  {
   "cell_type": "code",
   "execution_count": null,
   "metadata": {
    "collapsed": false
   },
   "outputs": [],
   "source": [
    "# Example: Series with all int value\n",
    "\n",
    "\n"
   ]
  },
  {
   "cell_type": "code",
   "execution_count": null,
   "metadata": {
    "collapsed": false
   },
   "outputs": [],
   "source": [
    "# Example: Series with all float values\n",
    "\n"
   ]
  },
  {
   "cell_type": "code",
   "execution_count": null,
   "metadata": {
    "collapsed": false
   },
   "outputs": [],
   "source": [
    "# Example: Series with mixed types\n",
    "\n",
    "\n",
    "\n"
   ]
  },
  {
   "cell_type": "code",
   "execution_count": null,
   "metadata": {
    "collapsed": false
   },
   "outputs": [],
   "source": [
    "# Example: Series with mixed data types\n",
    "\n"
   ]
  },
  {
   "cell_type": "code",
   "execution_count": null,
   "metadata": {
    "collapsed": true
   },
   "outputs": [],
   "source": [
    "# inspect methods of Series (\".\" - tab)\n",
    "# Show .values\n"
   ]
  },
  {
   "cell_type": "code",
   "execution_count": null,
   "metadata": {
    "collapsed": false
   },
   "outputs": [],
   "source": [
    "# Show .index\n"
   ]
  },
  {
   "cell_type": "code",
   "execution_count": null,
   "metadata": {
    "collapsed": false
   },
   "outputs": [],
   "source": [
    "# Other ways of creating a Series:  using a dict\n",
    "\n",
    "# country_population_dict = {'United States':324459463, 'Brazil': 207652865 , 'China': 1409517397, 'United Kingdom': 65863514 , 'Canada': 36289822, 'India':1339180127}\n"
   ]
  },
  {
   "cell_type": "code",
   "execution_count": null,
   "metadata": {
    "collapsed": false
   },
   "outputs": [],
   "source": [
    "# Using an array and passing an index: (show how indexes default to integers)\n",
    "# country_population_int = [324459463, 207652865 ,1409517397,  65863514 ,  36289822,1339180127]\n",
    "# population_series_v2\n"
   ]
  },
  {
   "cell_type": "code",
   "execution_count": null,
   "metadata": {
    "collapsed": false
   },
   "outputs": [],
   "source": [
    "# index_array_str = ['United States','Brazil', 'China','United Kingdom', 'Canada','India']\n",
    "# population_series_v3\n",
    "\n"
   ]
  },
  {
   "cell_type": "markdown",
   "metadata": {},
   "source": [
    "For more information about Series - refer to the online Help "
   ]
  },
  {
   "cell_type": "markdown",
   "metadata": {},
   "source": [
    "<a id=\"#DataFrame\"></a>\n",
    "<h2>DataFrame</h2>\n",
    "\n",
    "Two-dimensional size, mutable, potentially heterogeneous tabular data structure with labeled axes (rows and columns).  DataFrames will look like a spreadsheet.\n",
    "\n"
   ]
  },
  {
   "cell_type": "code",
   "execution_count": null,
   "metadata": {
    "collapsed": true
   },
   "outputs": [],
   "source": [
    "# Creating a new DataFrame:\n",
    "# There are several ways of creating DataFrames .... again refer to the online help for additonal documentation.\n",
    "# One example: using a dict of same size lists:\n",
    "\n",
    "my_dict = {'column1':[10,20,30,40],\n",
    "          'column2':[50,60,70,80],\n",
    "          'column3':[90,100,110,120],\n",
    "          'column4':[130,140,150,160]}"
   ]
  },
  {
   "cell_type": "code",
   "execution_count": null,
   "metadata": {
    "collapsed": false
   },
   "outputs": [],
   "source": [
    "# We can label the indexes:\n",
    "my_index_array = ['row0', 'row1','row2','row3']\n"
   ]
  },
  {
   "cell_type": "markdown",
   "metadata": {},
   "source": [
    "<h2>United States Balance of Trace - 2014</h2>\n",
    "\n",
    "from https://en.wikipedia.org/wiki/Demography_of_the_United_States\n",
    "\n",
    "<img src =\"Excel_.UnitedStatesBalanceOfTrade.png\" style=\"height:600px\">"
   ]
  },
  {
   "cell_type": "code",
   "execution_count": null,
   "metadata": {
    "collapsed": false
   },
   "outputs": [],
   "source": [
    "# Let's create a dataframe based on this spreadsheet:\n",
    "us_balance_of_trade_2014_dict = {'China': [-151.9,1.9,10.9,-56.3,-35.9,-35.3,-18.3,-19.9,-3.1,-17.9,-15.7,-12.3,1.3,-6.1,-2.7,-3.9,0.7,17.8,0.6],\n",
    "               'Euro Area': [3.4,6.4,-30.9,-4.9,-2.4,4.9,-1.2,-27,3.1,-5.9,-1.9,-1.1,-9.9,-1.9,1.2,-39.5,-3.6,6.2,-1.2],\n",
    "               'Japan':[-8,2.4,-46.2,0.6,-4,2.7,0,-18.8,-1.8,-3.5,-2,-0.3,0.6,-0.4,1.1,-1.5,6.1,7.3,0.1],\n",
    "               'Mexico':[-11,-20.8,-59.5,-4.2,-8.5,-2.8,-1.6,3.9,1,2.8,5.7,2.8,-3.3,-1.2,4.3,19.1,4.9,-3,16.6],\n",
    "               'Pacific':[-26.1,1.1,-0.5,-6.3,-3.3,-1.4,-2.1,7.6,1.9,-4.3,-4.1,-4.6,0,0.1,1.2,3.2,0.9,5.7,-2],\n",
    "               'Canada':[20.9,-79.8,-6.1,2.5,10,5.8,0.4,18.1,-8.9,7.3,2.6,1.5,1,1.9,-9.8,4.6,0.1,-0.8,-0.1],\n",
    "               'Middle East':[5.8,-45.1,17.1,-0.3,1.8,-1.5,0.2,4.5,-0.9,1.2,-0.1,-0.9,0.2,-0.5,0.9,-2.4,1.4,2.8,0.6],\n",
    "               'Lat. America':[12.1,-15.9,8.8,-1.1,2,1.8,0,9.1,-10.4,1.9,0.5,0.2,-0.6,-0.8,-1.9,15.8,-1.1,-6.5,18.3]\n",
    "                             }\n",
    "\n",
    "#my_dataFrame_v1:"
   ]
  },
  {
   "cell_type": "code",
   "execution_count": null,
   "metadata": {
    "collapsed": false
   },
   "outputs": [],
   "source": [
    "# Now let's use custom indexes for our DataFrame\n",
    "\n",
    "area_array_str = ['Computer','Oil, Gas, Minerals', 'Transportation', 'Apparel','Electrical Equipment','Misc. Manufacturing', \n",
    "                  'Furniture', 'Machinery', 'Primary Metals', 'Fabricated Metals', 'Plastics','Textiles', 'Beverages, Tobacco', \n",
    "                  'Nonmetallic Minerals', 'Paper','Chemical', 'Food','Agriculture','Petroleum']\n",
    "\n",
    "#my_dataFrame_v2:"
   ]
  },
  {
   "cell_type": "code",
   "execution_count": null,
   "metadata": {
    "collapsed": false
   },
   "outputs": [],
   "source": [
    "my_dataFrame_v2 = pd.DataFrame(us_balance_of_trade_2014_dict, index=area_array_str)\n",
    "\n",
    "my_dataFrame_v2"
   ]
  },
  {
   "cell_type": "code",
   "execution_count": null,
   "metadata": {
    "collapsed": false
   },
   "outputs": [],
   "source": [
    "#Selecting a specific column\n",
    "#Middle East\n"
   ]
  },
  {
   "cell_type": "code",
   "execution_count": null,
   "metadata": {
    "collapsed": false
   },
   "outputs": [],
   "source": [
    "#Selecting a list of columns:\n",
    "#Example: 'Canada','Euro Area','Mexico'\n",
    "\n"
   ]
  },
  {
   "cell_type": "code",
   "execution_count": null,
   "metadata": {
    "collapsed": false
   },
   "outputs": [],
   "source": [
    "#Introducting the special operator \"ix\" - to select rows from the DataFrame:\n",
    "#Example:  Find the United States Trade Balance for China in the area of Computer\n",
    "#Syntax: dataFrame.ix[_singleIndexOrList, _singleColumnOrList]\n",
    "\n",
    "\n"
   ]
  },
  {
   "cell_type": "code",
   "execution_count": null,
   "metadata": {
    "collapsed": false
   },
   "outputs": [],
   "source": [
    "#Example2: Find the United States Trade Balance for China, Japan and Canada in the areas of Computer, Transportation and Chemical\n",
    "\n"
   ]
  },
  {
   "cell_type": "markdown",
   "metadata": {},
   "source": [
    "<h2>Summary of Index Options for DataFrame</h2>\n",
    "<table align=\"left\">\n",
    "<tr><th>Syntax</th><th>Notes</th></tr>\n",
    "<tr><td>DataFrame[val]</td><td>Where val is a single column or list of columns.</td></tr>\n",
    "<tr><td>DataFrame.ix[val]</td><td>Where val is a single row (index) or list of rows (indexes). Selects a single row or subset of rows.</td></tr>\n",
    "<tr><td>DataFrame.ix[:,val]</td><td>Where val is a column or subset of columns</td></tr>\n",
    "<tr><td>DataFrame.ix[val1, val2]</td><td>val 1 is a list of rows or single row. val2 is a list of columns or single column</td></tr>\n",
    "</table>\n"
   ]
  },
  {
   "cell_type": "code",
   "execution_count": null,
   "metadata": {
    "collapsed": true
   },
   "outputs": [],
   "source": []
  },
  {
   "cell_type": "code",
   "execution_count": null,
   "metadata": {
    "collapsed": true
   },
   "outputs": [],
   "source": []
  },
  {
   "cell_type": "code",
   "execution_count": null,
   "metadata": {
    "collapsed": true
   },
   "outputs": [],
   "source": []
  }
 ],
 "metadata": {
  "kernelspec": {
   "display_name": "Python [Root]",
   "language": "python",
   "name": "Python [Root]"
  },
  "language_info": {
   "codemirror_mode": {
    "name": "ipython",
    "version": 3
   },
   "file_extension": ".py",
   "mimetype": "text/x-python",
   "name": "python",
   "nbconvert_exporter": "python",
   "pygments_lexer": "ipython3",
   "version": "3.5.1"
  }
 },
 "nbformat": 4,
 "nbformat_minor": 0
}

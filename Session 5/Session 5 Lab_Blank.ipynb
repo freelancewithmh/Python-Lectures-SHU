{
 "cells": [
  {
   "cell_type": "markdown",
   "metadata": {},
   "source": [
    "<h2>Session 8 Lab</h2>\n",
    "\n",
    "<h2>FN299A: Introduction to Python for Financial Applications</h2>\n",
    "\n",
    "--- Student Name ----"
   ]
  },
  {
   "cell_type": "markdown",
   "metadata": {},
   "source": [
    "<h2>Question 1</h2>\n",
    "\n",
    "Peter bought a new car in 2001 for $24,000.  The dollar value of his car changed each year as shown in the table below - create a line graph show how the value of the car changed.\n",
    "\n",
    "<table align=\"left\">\n",
    "<tr><th>Year</th><th>Value</th></tr>\n",
    "<tr><td>2001</td><td>&dollar; 24,000</td></tr>\n",
    "<tr><td>2002</td><td>&dollar; 22,500</td></tr>\n",
    "<tr><td>2003</td><td>&dollar; 19,700</td></tr>\n",
    "<tr><td>2004</td><td>&dollar; 17,500</td></tr>\n",
    "<tr><td>2005</td><td>&dollar; 14,500</td></tr>\n",
    "<tr><td>2006</td><td>&dollar; 10,000</td></tr>\n",
    "<tr><td>2007</td><td>&dollar; 5,800</td></tr>\n",
    "</table>"
   ]
  },
  {
   "cell_type": "code",
   "execution_count": null,
   "metadata": {
    "collapsed": true
   },
   "outputs": [],
   "source": []
  },
  {
   "cell_type": "markdown",
   "metadata": {},
   "source": [
    "<h2>Question 2</h2>\n",
    "\n",
    "Create a histogram based on the following test scores:\n",
    "\n",
    "99, 97, 94, 88, 84, 81, 80, 77, 71, 25\n",
    "\n",
    "Use bins of size 6.\n"
   ]
  },
  {
   "cell_type": "code",
   "execution_count": null,
   "metadata": {
    "collapsed": true
   },
   "outputs": [],
   "source": []
  },
  {
   "cell_type": "markdown",
   "metadata": {},
   "source": [
    "<h2>Question 3</h2>\n",
    "\n",
    "The following table contains ratings for different programming langes (from https://www.tiobe.com/tiobe-index/).  Create a bar chart based on the Ratings for each programming language.\n",
    "\n",
    "<table align=\"left\">\n",
    "<tr><th>Programming Language</th><th>Ratings</th>\n",
    "<tr><td>Java</td><td>14.941</td></tr>\n",
    "<tr><td>C</td><td>12.76</td></tr>\n",
    "<tr><td>C++</td><td>6.452</td></tr>\n",
    "<tr><td>Python</td><td>5.869</td></tr>\n",
    "<tr><td>C#</td><td>5.067</td></tr>\n",
    "<tr><td>Visual Basic .NET</td><td>4.085</td></tr>\n",
    "<tr><td>PHP</td><td>4.01</td></tr>\n",
    "<tr><td>JavaScript</td><td>3.916</td></tr>\n",
    "<tr><td>Ruby</td><td>2.744</td></tr>\n",
    "<tr><td>SQL</td><td>2.686</td></tr>\n",
    "<tr><td>Perl</td><td>2.233</td></tr>\n",
    "<tr><td>Swift</td><td>2.143</td></tr>\n",
    "<tr><td>Delphi/Object Pascal</td><td>1.792</td></tr>\n",
    "<tr><td>Objective-C</td><td>1.774</td></tr>\n",
    "<tr><td>Visual Basic</td><td>1.741</td></tr>\n",
    "<tr><td>Assembly language</td><td>1.707</td></tr>\n",
    "<tr><td>Go</td><td>1.444</td></tr>\n",
    "<tr><td>MATLAB</td><td>1.408</td></tr>\n",
    "<tr><td>PL/SQL</td><td>1.327</td></tr>\n",
    "<tr><td>R</td><td>1.128</td></tr>\n",
    "</table>\n"
   ]
  },
  {
   "cell_type": "code",
   "execution_count": null,
   "metadata": {
    "collapsed": true
   },
   "outputs": [],
   "source": []
  },
  {
   "cell_type": "markdown",
   "metadata": {},
   "source": [
    "<h2>Question 4</h2>\n",
    "\n",
    "Now create a horizontal barchart with the data for the ratings for the different programming languages."
   ]
  },
  {
   "cell_type": "code",
   "execution_count": null,
   "metadata": {
    "collapsed": true
   },
   "outputs": [],
   "source": []
  },
  {
   "cell_type": "markdown",
   "metadata": {},
   "source": [
    "<h2>Question 5</h2>\n",
    "\n",
    "The table below contains the data relating to the weight of an alligator in pounds to the length of an alligator in inches.  Create a scatter plot of the two variables and determine if there is a correlation between the two variables.\n",
    "\n",
    "<table align=\"left\">\n",
    "<tr><th>Weight of Alligator(pounds)</th><th>Length of Alligator(incles)</th></tr>\n",
    "<tr><td>86</td><td>83</td></tr>\n",
    "<tr><td>88</td><td>70</td></tr>\n",
    "<tr><td>72</td><td>61</td></tr>\n",
    "<tr><td>74</td><td>54</td></tr>\n",
    "<tr><td>61</td><td>44</td></tr>\n",
    "<tr><td>90</td><td>106</td></tr>\n",
    "<tr><td>89</td><td>84</td></tr>\n",
    "<tr><td>68</td><td>39</td></tr>\n",
    "<tr><td>76</td><td>42</td></tr>\n",
    "<tr><td>114</td><td>197</td></tr>\n",
    "<tr><td>90</td><td>102</td></tr>\n",
    "<tr><td>78</td><td>57</td></tr>\n",
    "<tr><td>94</td><td>130</td></tr>\n",
    "<tr><td>74</td><td>51</td></tr>\n",
    "<tr><td>147</td><td>640</td></tr>\n",
    "<tr><td>58</td><td>28</td></tr>\n",
    "<tr><td>86</td><td>80</td></tr>\n",
    "<tr><td>94</td><td>110</td></tr>\n",
    "<tr><td>63</td><td>33</td></tr>\n",
    "<tr><td>86</td><td>90</td></tr>\n",
    "<tr><td>69</td><td>36</td></tr>\n",
    "<tr><td>72</td><td>38</td></tr>\n",
    "<tr><td>128</td><td>366</td></tr>\n",
    "<tr><td>85</td><td>84</td></tr>\n",
    "<tr><td>82</td><td>80</td></tr>\n",
    "</table>\n",
    "\n"
   ]
  },
  {
   "cell_type": "code",
   "execution_count": null,
   "metadata": {
    "collapsed": true
   },
   "outputs": [],
   "source": []
  },
  {
   "cell_type": "code",
   "execution_count": null,
   "metadata": {
    "collapsed": true
   },
   "outputs": [],
   "source": []
  }
 ],
 "metadata": {
  "kernelspec": {
   "display_name": "Python [Root]",
   "language": "python",
   "name": "Python [Root]"
  },
  "language_info": {
   "codemirror_mode": {
    "name": "ipython",
    "version": 3
   },
   "file_extension": ".py",
   "mimetype": "text/x-python",
   "name": "python",
   "nbconvert_exporter": "python",
   "pygments_lexer": "ipython3",
   "version": "3.5.1"
  }
 },
 "nbformat": 4,
 "nbformat_minor": 2
}
